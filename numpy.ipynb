{
  "nbformat": 4,
  "nbformat_minor": 0,
  "metadata": {
    "colab": {
      "provenance": [],
      "authorship_tag": "ABX9TyPb5oEDX3Lt+5zcAktGbj02",
      "include_colab_link": true
    },
    "kernelspec": {
      "name": "python3",
      "display_name": "Python 3"
    },
    "language_info": {
      "name": "python"
    }
  },
  "cells": [
    {
      "cell_type": "markdown",
      "metadata": {
        "id": "view-in-github",
        "colab_type": "text"
      },
      "source": [
        "<a href=\"https://colab.research.google.com/github/tewei0328/teach-programming/blob/main/numpy.ipynb\" target=\"_parent\"><img src=\"https://colab.research.google.com/assets/colab-badge.svg\" alt=\"Open In Colab\"/></a>"
      ]
    },
    {
      "cell_type": "markdown",
      "source": [
        "# 格點"
      ],
      "metadata": {
        "id": "QUd_oeYIqc1f"
      }
    },
    {
      "cell_type": "code",
      "execution_count": 1,
      "metadata": {
        "id": "MeObXKdJqJKx"
      },
      "outputs": [],
      "source": [
        "import numpy as np"
      ]
    },
    {
      "cell_type": "code",
      "source": [
        "x = np.array([1, 2, 3])"
      ],
      "metadata": {
        "id": "FcVsipG_qxJQ"
      },
      "execution_count": 2,
      "outputs": []
    },
    {
      "cell_type": "code",
      "source": [
        "type(x)"
      ],
      "metadata": {
        "colab": {
          "base_uri": "https://localhost:8080/"
        },
        "id": "t547B4uYqyUX",
        "outputId": "2317240c-e5dc-4022-b991-209c2777cb2f"
      },
      "execution_count": 3,
      "outputs": [
        {
          "output_type": "execute_result",
          "data": {
            "text/plain": [
              "numpy.ndarray"
            ]
          },
          "metadata": {},
          "execution_count": 3
        }
      ]
    },
    {
      "cell_type": "code",
      "source": [
        "a = np.linspace(-np.pi, np.pi, 100)"
      ],
      "metadata": {
        "id": "xPgtnR40qzbp"
      },
      "execution_count": 4,
      "outputs": []
    },
    {
      "cell_type": "code",
      "source": [
        "a"
      ],
      "metadata": {
        "colab": {
          "base_uri": "https://localhost:8080/"
        },
        "id": "cBEFZ_4d0jAJ",
        "outputId": "7a9583be-aceb-4ccf-df9a-4a26baaae1c7"
      },
      "execution_count": 5,
      "outputs": [
        {
          "output_type": "execute_result",
          "data": {
            "text/plain": [
              "array([-3.14159265, -3.07812614, -3.01465962, -2.9511931 , -2.88772658,\n",
              "       -2.82426006, -2.76079354, -2.69732703, -2.63386051, -2.57039399,\n",
              "       -2.50692747, -2.44346095, -2.37999443, -2.31652792, -2.2530614 ,\n",
              "       -2.18959488, -2.12612836, -2.06266184, -1.99919533, -1.93572881,\n",
              "       -1.87226229, -1.80879577, -1.74532925, -1.68186273, -1.61839622,\n",
              "       -1.5549297 , -1.49146318, -1.42799666, -1.36453014, -1.30106362,\n",
              "       -1.23759711, -1.17413059, -1.11066407, -1.04719755, -0.98373103,\n",
              "       -0.92026451, -0.856798  , -0.79333148, -0.72986496, -0.66639844,\n",
              "       -0.60293192, -0.53946541, -0.47599889, -0.41253237, -0.34906585,\n",
              "       -0.28559933, -0.22213281, -0.1586663 , -0.09519978, -0.03173326,\n",
              "        0.03173326,  0.09519978,  0.1586663 ,  0.22213281,  0.28559933,\n",
              "        0.34906585,  0.41253237,  0.47599889,  0.53946541,  0.60293192,\n",
              "        0.66639844,  0.72986496,  0.79333148,  0.856798  ,  0.92026451,\n",
              "        0.98373103,  1.04719755,  1.11066407,  1.17413059,  1.23759711,\n",
              "        1.30106362,  1.36453014,  1.42799666,  1.49146318,  1.5549297 ,\n",
              "        1.61839622,  1.68186273,  1.74532925,  1.80879577,  1.87226229,\n",
              "        1.93572881,  1.99919533,  2.06266184,  2.12612836,  2.18959488,\n",
              "        2.2530614 ,  2.31652792,  2.37999443,  2.44346095,  2.50692747,\n",
              "        2.57039399,  2.63386051,  2.69732703,  2.76079354,  2.82426006,\n",
              "        2.88772658,  2.9511931 ,  3.01465962,  3.07812614,  3.14159265])"
            ]
          },
          "metadata": {},
          "execution_count": 5
        }
      ]
    }
  ]
}